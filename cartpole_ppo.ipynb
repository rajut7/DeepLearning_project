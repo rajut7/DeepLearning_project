{
 "cells": [
  {
   "cell_type": "code",
   "execution_count": 17,
   "id": "6098c122",
   "metadata": {},
   "outputs": [],
   "source": [
    "import numpy as np\n",
    "import pandas as pd\n",
    "import gym\n",
    "import torch.nn as nn\n",
    "import torch.optim as optim\n",
    "from torch.distributions import Categorical\n",
    "import torch.nn.functional as F\n",
    "import torch"
   ]
  },
  {
   "cell_type": "code",
   "execution_count": 18,
   "id": "60a5c81f",
   "metadata": {},
   "outputs": [
    {
     "data": {
      "text/plain": [
       "'0.23.1'"
      ]
     },
     "execution_count": 18,
     "metadata": {},
     "output_type": "execute_result"
    }
   ],
   "source": [
    "gym.__version__"
   ]
  },
  {
   "cell_type": "code",
   "execution_count": 19,
   "id": "5adfcf74",
   "metadata": {
    "scrolled": true
   },
   "outputs": [],
   "source": [
    "env= gym.make('CartPole-v1')"
   ]
  },
  {
   "cell_type": "code",
   "execution_count": 20,
   "id": "85333de8",
   "metadata": {},
   "outputs": [
    {
     "data": {
      "text/plain": [
       "4"
      ]
     },
     "execution_count": 20,
     "metadata": {},
     "output_type": "execute_result"
    }
   ],
   "source": [
    "env.observation_space.shape[0]"
   ]
  },
  {
   "cell_type": "code",
   "execution_count": 21,
   "id": "dd381779",
   "metadata": {},
   "outputs": [],
   "source": [
    "class critic(nn.Module):\n",
    "    def __init__(self,state_space,action_space):\n",
    "        super(critic,self).__init__()\n",
    "        self.fc1= nn.Linear(state_space,64)\n",
    "        self.fc2= nn.Linear(64,64)\n",
    "        self.fc3= nn.Linear(64,action_space)\n",
    "    def forward(self,x):\n",
    "        x= F.relu(self.fc1(x))\n",
    "        x= F.relu(self.fc2(x))\n",
    "        x= self.fc3(x)\n",
    "        return torch.squeeze(x,-1)"
   ]
  },
  {
   "cell_type": "code",
   "execution_count": 22,
   "id": "266e991d",
   "metadata": {},
   "outputs": [],
   "source": [
    "class ActorCritic(nn.Module):\n",
    "    def __init__(self,state_space,action_space):\n",
    "        super(ActorCritic,self).__init__()\n",
    "        self.fc1= nn.Linear(state_space,64)\n",
    "        self.fc2= nn.Linear(64,64)\n",
    "        self.fc3= nn.Linear(64,action_space)\n",
    "        self.v= critic(state_space,1)\n",
    "    def forward(self,x):\n",
    "        x= F.relu(self.fc1(x))\n",
    "        x= F.relu(self.fc2(x))\n",
    "        x= self.fc3(x)\n",
    "        m= nn.Softmax(dim=-1)\n",
    "        return m(x)\n",
    "    def step(self,obs):\n",
    "        with torch.no_grad():\n",
    "            logits= self.forward(obs)\n",
    "            pi= Categorical(logits)\n",
    "            a= pi.sample()\n",
    "            log_p= pi.log_prob(a)\n",
    "            v= self.v(obs)\n",
    "        return a.numpy(),v.numpy(), log_p.numpy()\n",
    "    def act(self,obs):\n",
    "        return self.step(obs)[0]\n",
    "    def logp(self,obs,act):\n",
    "        logits= self.forward(obs)\n",
    "        pi= Categorical(logits)\n",
    "        log_p= pi.log_prob(act)\n",
    "        return log_p\n",
    "            "
   ]
  },
  {
   "cell_type": "code",
   "execution_count": 23,
   "id": "533419ff",
   "metadata": {},
   "outputs": [],
   "source": [
    "actor_critic= ActorCritic(env.observation_space.shape[0],env.action_space.n)"
   ]
  },
  {
   "cell_type": "code",
   "execution_count": 24,
   "id": "d21fdb15",
   "metadata": {},
   "outputs": [],
   "source": [
    "ac_optimizer=optim.Adam(actor_critic.parameters(),lr=5e-4)\n",
    "critic_optimizer= optim.Adam(actor_critic.v.parameters(),lr=1e-3)"
   ]
  },
  {
   "cell_type": "code",
   "execution_count": 25,
   "id": "bcc272aa",
   "metadata": {},
   "outputs": [],
   "source": [
    "def reward_to_go(rews):\n",
    "    n = len(rews)\n",
    "    rtgs = np.zeros_like(rews)\n",
    "    for i in reversed(range(n)):\n",
    "        rtgs[i] = rews[i] + (rtgs[i+1] if i+1 < n else 0)\n",
    "    return  rtgs"
   ]
  },
  {
   "cell_type": "code",
   "execution_count": 26,
   "id": "b4150a47",
   "metadata": {},
   "outputs": [],
   "source": [
    "def update(state_batch,reward_batch,action_batch,v_batch,log_prob_batch,advantage_batch):\n",
    "    clip_ratio=0.2\n",
    "    #print(state_batch)\n",
    "    state_batch= np.asarray(state_batch)\n",
    "    state_batch= torch.as_tensor(state_batch,dtype=torch.float32)\n",
    "    #print(state_batch)\n",
    "    reward_batch= torch.as_tensor(reward_batch,dtype= torch.float32)\n",
    "    #print(reward_batch)\n",
    "    action_batch= torch.as_tensor(np.asarray(action_batch),dtype= torch.int32)\n",
    "    #print(v_batch)\n",
    "    v_batch= torch.as_tensor(np.asarray(v_batch),dtype= torch.int32)\n",
    "    log_prob_old= torch.as_tensor(np.asarray(log_prob_batch), dtype= torch.float32)\n",
    "    advantage= torch.as_tensor(np.asarray(advantage_batch), dtype= torch.float32)\n",
    "    rtgs= torch.as_tensor(reward_to_go(reward_batch))\n",
    "    for i in range(20):\n",
    "        log_prob= actor_critic.logp(state_batch,action_batch)\n",
    "        ratio= torch.exp(log_prob-log_prob_old)\n",
    "        clip_adv = torch.clamp(ratio, 1-clip_ratio, 1+clip_ratio) * advantage\n",
    "        loss_pi = -(torch.min(ratio * advantage, clip_adv)).mean()\n",
    "\n",
    "        ac_optimizer.zero_grad()\n",
    "        loss_pi.backward()\n",
    "        ac_optimizer.step()\n",
    "\n",
    "        loss_v= ((actor_critic.v(state_batch) - rtgs)**2).mean()\n",
    "        critic_optimizer.zero_grad()\n",
    "        loss_v.backward()\n",
    "        critic_optimizer.step()\n",
    "    #print(loss_v)"
   ]
  },
  {
   "cell_type": "code",
   "execution_count": 27,
   "id": "ff702776",
   "metadata": {},
   "outputs": [],
   "source": [
    "def gae(gamma,lambd,v_old,v_new,r,d):\n",
    "    batch_size=len(d)\n",
    "    advantage = np.zeros(batch_size + 1)\n",
    "    for t in reversed(range(batch_size)):\n",
    "        delta = r[t] + (gamma * v_new[t] * d[t]) - v_old[t]\n",
    "        advantage[t] = delta + (gamma * lambd * advantage[t + 1] * d[t])\n",
    "    return advantage[:batch_size]"
   ]
  },
  {
   "cell_type": "code",
   "execution_count": 28,
   "id": "fd140b41",
   "metadata": {
    "scrolled": false
   },
   "outputs": [
    {
     "name": "stdout",
     "output_type": "stream",
     "text": [
      "Episode:  9  Last avg reward:  15.4\n",
      "Episode:  19  Last avg reward:  25.1\n",
      "Episode:  29  Last avg reward:  56.1\n",
      "Episode:  39  Last avg reward:  87.3\n",
      "Episode:  49  Last avg reward:  201.4\n",
      "Episode:  59  Last avg reward:  167.6\n",
      "Episode:  69  Last avg reward:  135.1\n",
      "Episode:  79  Last avg reward:  170.1\n",
      "Episode:  89  Last avg reward:  178.0\n",
      "Episode:  99  Last avg reward:  146.0\n",
      "Episode:  109  Last avg reward:  203.2\n",
      "Episode:  119  Last avg reward:  215.7\n",
      "Episode:  129  Last avg reward:  181.7\n",
      "Episode:  139  Last avg reward:  184.3\n",
      "Episode:  149  Last avg reward:  192.5\n",
      "Episode:  159  Last avg reward:  466.6\n",
      "Episode:  169  Last avg reward:  500.0\n",
      "Episode:  179  Last avg reward:  500.0\n",
      "Episode:  189  Last avg reward:  137.9\n",
      "Episode:  199  Last avg reward:  9.4\n",
      "Episode:  209  Last avg reward:  9.1\n",
      "Episode:  219  Last avg reward:  9.8\n",
      "Episode:  229  Last avg reward:  120.8\n",
      "Episode:  239  Last avg reward:  71.6\n",
      "Episode:  249  Last avg reward:  42.6\n",
      "Episode:  259  Last avg reward:  152.0\n",
      "Episode:  269  Last avg reward:  460.6\n",
      "Episode:  279  Last avg reward:  500.0\n",
      "Episode:  289  Last avg reward:  500.0\n",
      "Episode:  299  Last avg reward:  208.3\n",
      "Episode:  309  Last avg reward:  477.7\n",
      "Episode:  319  Last avg reward:  500.0\n",
      "Episode:  329  Last avg reward:  500.0\n",
      "Episode:  339  Last avg reward:  500.0\n",
      "Episode:  349  Last avg reward:  500.0\n",
      "Episode:  359  Last avg reward:  500.0\n",
      "Episode:  369  Last avg reward:  500.0\n",
      "Episode:  379  Last avg reward:  500.0\n",
      "Episode:  389  Last avg reward:  500.0\n",
      "Episode:  399  Last avg reward:  500.0\n",
      "Episode:  409  Last avg reward:  500.0\n",
      "Episode:  419  Last avg reward:  500.0\n",
      "Episode:  429  Last avg reward:  500.0\n",
      "Episode:  439  Last avg reward:  500.0\n",
      "Episode:  449  Last avg reward:  500.0\n",
      "Episode:  459  Last avg reward:  500.0\n",
      "Episode:  469  Last avg reward:  500.0\n",
      "Episode:  479  Last avg reward:  500.0\n",
      "Episode:  489  Last avg reward:  500.0\n",
      "Episode:  499  Last avg reward:  500.0\n",
      "Episode:  509  Last avg reward:  500.0\n",
      "Episode:  519  Last avg reward:  500.0\n",
      "Episode:  529  Last avg reward:  500.0\n",
      "Episode:  539  Last avg reward:  500.0\n",
      "Episode:  549  Last avg reward:  500.0\n",
      "Episode:  559  Last avg reward:  500.0\n",
      "Episode:  569  Last avg reward:  500.0\n",
      "Episode:  579  Last avg reward:  500.0\n",
      "Episode:  589  Last avg reward:  500.0\n",
      "Episode:  599  Last avg reward:  500.0\n",
      "Episode:  609  Last avg reward:  500.0\n",
      "Episode:  619  Last avg reward:  500.0\n",
      "Episode:  629  Last avg reward:  500.0\n",
      "Episode:  639  Last avg reward:  259.5\n",
      "Episode:  649  Last avg reward:  480.8\n",
      "Episode:  659  Last avg reward:  500.0\n",
      "Episode:  669  Last avg reward:  500.0\n",
      "Episode:  679  Last avg reward:  500.0\n",
      "Episode:  689  Last avg reward:  500.0\n",
      "Episode:  699  Last avg reward:  500.0\n",
      "Episode:  709  Last avg reward:  500.0\n",
      "Episode:  719  Last avg reward:  500.0\n",
      "Episode:  729  Last avg reward:  500.0\n",
      "Episode:  739  Last avg reward:  500.0\n",
      "Episode:  749  Last avg reward:  500.0\n",
      "Episode:  759  Last avg reward:  500.0\n",
      "Episode:  769  Last avg reward:  500.0\n",
      "Episode:  779  Last avg reward:  500.0\n",
      "Episode:  789  Last avg reward:  500.0\n",
      "Episode:  799  Last avg reward:  500.0\n",
      "Episode:  809  Last avg reward:  500.0\n",
      "Episode:  819  Last avg reward:  495.1\n",
      "Episode:  829  Last avg reward:  480.2\n",
      "Episode:  839  Last avg reward:  428.1\n",
      "Episode:  849  Last avg reward:  421.1\n",
      "Episode:  859  Last avg reward:  465.7\n",
      "Episode:  869  Last avg reward:  453.2\n",
      "Episode:  879  Last avg reward:  471.9\n",
      "Episode:  889  Last avg reward:  476.5\n",
      "Episode:  899  Last avg reward:  484.4\n",
      "Episode:  909  Last avg reward:  489.8\n",
      "Episode:  919  Last avg reward:  500.0\n",
      "Episode:  929  Last avg reward:  500.0\n",
      "Episode:  939  Last avg reward:  487.8\n",
      "Episode:  949  Last avg reward:  444.5\n",
      "Episode:  959  Last avg reward:  430.7\n",
      "Episode:  969  Last avg reward:  443.3\n",
      "Episode:  979  Last avg reward:  437.1\n",
      "Episode:  989  Last avg reward:  483.0\n",
      "Episode:  999  Last avg reward:  465.8\n"
     ]
    }
   ],
   "source": [
    "r_l=[]\n",
    "for epoch in range(1000):\n",
    "    state_batch=[]\n",
    "    reward_batch=[]\n",
    "    action_batch=[]\n",
    "    v_batch=[]\n",
    "    log_prob_batch=[]\n",
    "    terminal_batch=[]\n",
    "    advantage_batch=[]\n",
    "    rewards=[]\n",
    "    v_new_batch=[]\n",
    "    state= env.reset()\n",
    "    done= False\n",
    "    r=0\n",
    "    while not done:\n",
    "        #env.render()\n",
    "        a,v_old,log_p= actor_critic.step(torch.as_tensor(state,dtype=torch.float32))\n",
    "        next_s, reward,done,_=env.step(a)\n",
    "        state_batch.append(state)\n",
    "        reward_batch.append(reward)\n",
    "        action_batch.append(a)\n",
    "        v_batch.append(v_old)\n",
    "        log_prob_batch.append(log_p)\n",
    "        terminal_batch.append(done)\n",
    "        state=next_s\n",
    "        r+=reward\n",
    "        _,v_new,log_p=actor_critic.step(torch.as_tensor(state,dtype=torch.float32))\n",
    "        v_new_batch.append(v_new)\n",
    "        adv= (reward+0.99*v_new)-v_old\n",
    "        advantage_batch.append(adv)\n",
    "    #advantage_batch=gae(0.99,0.95,v_batch,v_new_batch,reward_batch,terminal_batch)\n",
    "    r_l.append(r)\n",
    "    update(state_batch,reward_batch,action_batch,v_batch,log_prob_batch,advantage_batch)\n",
    "    if epoch%10 == 9:\n",
    "        print(\"Episode: \",epoch,\" Last avg reward: \",sum(r_l[-10:])/10)"
   ]
  },
  {
   "cell_type": "code",
   "execution_count": 32,
   "id": "3588305b",
   "metadata": {},
   "outputs": [
    {
     "data": {
      "text/plain": [
       "Text(0.5, 1.0, 'Training Rewards of PPO in Cartpole Environment')"
      ]
     },
     "execution_count": 32,
     "metadata": {},
     "output_type": "execute_result"
    },
    {
     "data": {
      "image/png": "[encoded data removed]",
      "text/plain": [
       "<Figure size 432x288 with 1 Axes>"
      ]
     },
     "metadata": {
      "needs_background": "light"
     },
     "output_type": "display_data"
    }
   ],
   "source": [
    "import matplotlib.pyplot as plt\n",
    "plt.plot(r_l)\n",
    "plt.xlabel('Episodes')\n",
    "plt.ylabel('Reward')\n",
    "plt.title(\"Training Rewards of PPO in Cartpole Environment\")"
   ]
  },
  {
   "cell_type": "code",
   "execution_count": 30,
   "id": "da1c33c2",
   "metadata": {},
   "outputs": [],
   "source": [
    "eval_r=[]\n",
    "for epoch in range(50):\n",
    "    state= env.reset()\n",
    "    done= False\n",
    "    r=0\n",
    "    while not done:\n",
    "        env.render()\n",
    "        a,v_old,log_p= actor_critic.step(torch.as_tensor(state,dtype=torch.float32))\n",
    "        next_s, reward,done,_=env.step(a)\n",
    "        state=next_s\n",
    "        r+=reward\n",
    "    eval_r.append(r)\n",
    "        "
   ]
  },
  {
   "cell_type": "code",
   "execution_count": 31,
   "id": "0590d007",
   "metadata": {},
   "outputs": [
    {
     "data": {
      "text/plain": [
       "Text(0.5, 1.0, 'Evaluation of PPO in Cartpole Environment')"
      ]
     },
     "execution_count": 31,
     "metadata": {},
     "output_type": "execute_result"
    },
    {
     "data": {
      "image/png": "[encoded data removed]",
      "text/plain": [
       "<Figure size 432x288 with 1 Axes>"
      ]
     },
     "metadata": {
      "needs_background": "light"
     },
     "output_type": "display_data"
    }
   ],
   "source": [
    "plt.plot(eval_r)\n",
    "plt.xlabel('Episodes')\n",
    "plt.ylabel('Reward')\n",
    "plt.title(\"Evaluation of PPO in Cartpole Environment\")"
   ]
  },
  {
   "cell_type": "code",
   "execution_count": null,
   "id": "00172991",
   "metadata": {},
   "outputs": [],
   "source": []
  }
 ],
 "metadata": {
  "kernelspec": {
   "display_name": "Python 3 (ipykernel)",
   "language": "python",
   "name": "python3"
  },
  "language_info": {
   "codemirror_mode": {
    "name": "ipython",
    "version": 3
   },
   "file_extension": ".py",
   "mimetype": "text/x-python",
   "name": "python",
   "nbconvert_exporter": "python",
   "pygments_lexer": "ipython3",
   "version": "3.9.7"
  }
 },
 "nbformat": 4,
 "nbformat_minor": 5
}
