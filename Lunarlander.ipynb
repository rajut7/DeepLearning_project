{
 "cells": [
  {
   "cell_type": "code",
   "execution_count": 1,
   "id": "861b6377",
   "metadata": {},
   "outputs": [],
   "source": [
    "import numpy as np\n",
    "import pandas as pd\n",
    "import gym\n",
    "import torch.nn as nn\n",
    "import torch.optim as optim\n",
    "from torch.distributions import Categorical\n",
    "import torch.nn.functional as F\n",
    "import torch"
   ]
  },
  {
   "cell_type": "code",
   "execution_count": 2,
   "id": "480713ee",
   "metadata": {},
   "outputs": [],
   "source": [
    "env= gym.make('LunarLander-v2')"
   ]
  },
  {
   "cell_type": "code",
   "execution_count": 3,
   "id": "c2458958",
   "metadata": {},
   "outputs": [
    {
     "data": {
      "text/plain": [
       "device(type='cuda')"
      ]
     },
     "execution_count": 3,
     "metadata": {},
     "output_type": "execute_result"
    }
   ],
   "source": [
    "device = torch.device(\"cuda\" if torch.cuda.is_available() else \"cpu\")\n",
    "device"
   ]
  },
  {
   "cell_type": "code",
   "execution_count": 4,
   "id": "a987b2f0",
   "metadata": {},
   "outputs": [],
   "source": [
    "class critic(nn.Module):\n",
    "    def __init__(self,state_space,action_space):\n",
    "        super(critic,self).__init__()\n",
    "        self.fc1= nn.Linear(state_space,64)\n",
    "        self.fc2= nn.Linear(64,64)\n",
    "        self.fc3= nn.Linear(64,action_space)\n",
    "    def forward(self,x):\n",
    "        x= F.relu(self.fc1(x))\n",
    "        x= F.relu(self.fc2(x))\n",
    "        x= self.fc3(x)\n",
    "        return torch.squeeze(x,-1)"
   ]
  },
  {
   "cell_type": "code",
   "execution_count": 5,
   "id": "d4abc441",
   "metadata": {},
   "outputs": [],
   "source": [
    "class ActorCritic(nn.Module):\n",
    "    def __init__(self,state_space,action_space):\n",
    "        super(ActorCritic,self).__init__()\n",
    "        self.fc1= nn.Linear(state_space,64)\n",
    "        self.fc2= nn.Linear(64,64)\n",
    "        self.fc3= nn.Linear(64,action_space)\n",
    "        self.v= critic(state_space,1).to(device)\n",
    "    def forward(self,x):\n",
    "        x= F.relu(self.fc1(x))\n",
    "        x= F.relu(self.fc2(x))\n",
    "        x= (self.fc3(x))\n",
    "        m= nn.Softmax(dim=-1)\n",
    "        return m(x)\n",
    "    def step(self,obs):\n",
    "        with torch.no_grad():\n",
    "            logits= self.forward(obs)\n",
    "            pi= Categorical(logits)\n",
    "            a= pi.sample()\n",
    "            log_p= pi.log_prob(a)\n",
    "            v= self.v(obs)\n",
    "        return a.cpu().numpy(),v.cpu().numpy(), log_p.cpu().numpy()\n",
    "    def act(self,obs):\n",
    "        return self.step(obs)[0]\n",
    "    def logp(self,obs,act):\n",
    "        logits= self.forward(obs)\n",
    "        pi= Categorical(logits)\n",
    "        log_p= pi.log_prob(act)\n",
    "        return log_p"
   ]
  },
  {
   "cell_type": "code",
   "execution_count": 6,
   "id": "f1881cc1",
   "metadata": {},
   "outputs": [],
   "source": [
    "actor_critic= ActorCritic(env.observation_space.shape[0],env.action_space.n).to(device)"
   ]
  },
  {
   "cell_type": "code",
   "execution_count": 7,
   "id": "8fad5b7d",
   "metadata": {},
   "outputs": [],
   "source": [
    "ac_optimizer=optim.Adam(actor_critic.parameters(),lr=3e-4)\n",
    "critic_optimizer= optim.Adam(actor_critic.v.parameters(),lr=1e-3)"
   ]
  },
  {
   "cell_type": "code",
   "execution_count": 8,
   "id": "4b1636b1",
   "metadata": {},
   "outputs": [],
   "source": [
    "def reward_to_go(rews):\n",
    "    n = len(rews)\n",
    "    rtgs = np.zeros_like(rews.cpu())\n",
    "    for i in reversed(range(n)):\n",
    "        rtgs[i] = rews[i] + (rtgs[i+1] if i+1 < n else 0)\n",
    "    return  rtgs"
   ]
  },
  {
   "cell_type": "code",
   "execution_count": 9,
   "id": "2cb3496a",
   "metadata": {},
   "outputs": [],
   "source": [
    "def update(state_batch,reward_batch,action_batch,v_batch,log_prob_batch,advantage_batch):\n",
    "    clip_ratio=0.2\n",
    "    #print(state_batch)\n",
    "    state_batch= torch.as_tensor(state_batch,dtype=torch.float32).to(device)\n",
    "    #print(state_batch)\n",
    "    reward_batch= torch.as_tensor(reward_batch,dtype= torch.float32).to(device)\n",
    "    #print(reward_batch)\n",
    "    action_batch= torch.as_tensor(np.asarray(action_batch),dtype= torch.int32).to(device)\n",
    "    #print(v_batch)\n",
    "    v_batch= torch.as_tensor(np.asarray(v_batch),dtype= torch.int32).to(device)\n",
    "    log_prob_old= torch.as_tensor(np.asarray(log_prob_batch), dtype= torch.float32).to(device)\n",
    "    advantage= torch.as_tensor(np.asarray(advantage_batch), dtype= torch.float32).to(device)\n",
    "    rtgs= torch.as_tensor(reward_to_go(reward_batch)).to(device)\n",
    "    for i in range(10):\n",
    "        log_prob= actor_critic.logp(state_batch,action_batch)\n",
    "        ratio= torch.exp(log_prob-log_prob_old)\n",
    "        clip_adv = torch.clamp(ratio, 1-clip_ratio, 1+clip_ratio) * advantage\n",
    "        loss_pi = -(torch.min(ratio * advantage, clip_adv)).mean()\n",
    "\n",
    "        ac_optimizer.zero_grad()\n",
    "        loss_pi.backward()\n",
    "        ac_optimizer.step()\n",
    "\n",
    "        loss_v= ((actor_critic.v(state_batch) - rtgs)**2).mean()\n",
    "        critic_optimizer.zero_grad()\n",
    "        loss_v.backward()\n",
    "        critic_optimizer.step()"
   ]
  },
  {
   "cell_type": "code",
   "execution_count": 10,
   "id": "354bccf6",
   "metadata": {
    "scrolled": true
   },
   "outputs": [
    {
     "name": "stderr",
     "output_type": "stream",
     "text": [
      "/tmp/ipykernel_29080/675372631.py:4: UserWarning: Creating a tensor from a list of numpy.ndarrays is extremely slow. Please consider converting the list to a single numpy.ndarray with numpy.array() before converting to a tensor. (Triggered internally at  ../torch/csrc/utils/tensor_new.cpp:210.)\n",
      "  state_batch= torch.as_tensor(state_batch,dtype=torch.float32).to(device)\n"
     ]
    },
    {
     "name": "stdout",
     "output_type": "stream",
     "text": [
      "Episode:  9  Last avg reward:  -48.37280191881203\n",
      "Episode:  49  Last avg reward:  -276.6766908854629\n",
      "Episode:  89  Last avg reward:  -314.8126200037885\n",
      "Episode:  129  Last avg reward:  -199.23644835586475\n",
      "Episode:  169  Last avg reward:  -179.68493480210867\n",
      "Episode:  209  Last avg reward:  -161.13792899459364\n",
      "Episode:  249  Last avg reward:  -124.30769152185269\n",
      "Episode:  289  Last avg reward:  -87.5622940747326\n",
      "Episode:  329  Last avg reward:  -57.57620022292964\n",
      "Episode:  369  Last avg reward:  -73.29039695443461\n",
      "Episode:  409  Last avg reward:  -48.3158775547592\n",
      "Episode:  449  Last avg reward:  -61.36192268863389\n",
      "Episode:  489  Last avg reward:  -57.316432492971344\n",
      "Episode:  529  Last avg reward:  -41.046066495527626\n",
      "Episode:  569  Last avg reward:  -51.63911603265078\n",
      "Episode:  609  Last avg reward:  -21.228852721543937\n",
      "Episode:  649  Last avg reward:  -7.4345963894390765\n",
      "Episode:  689  Last avg reward:  -12.080862317660777\n",
      "Episode:  729  Last avg reward:  -48.7898962275882\n",
      "Episode:  769  Last avg reward:  6.787522206784812\n",
      "Episode:  809  Last avg reward:  -12.43755268425377\n",
      "Episode:  849  Last avg reward:  -8.14785509017529\n",
      "Episode:  889  Last avg reward:  2.4458446605071655\n",
      "Episode:  929  Last avg reward:  -0.6543786556327721\n",
      "Episode:  969  Last avg reward:  -22.72308440980199\n",
      "Episode:  1009  Last avg reward:  17.6404730380947\n",
      "Episode:  1049  Last avg reward:  -20.765231876769537\n",
      "Episode:  1089  Last avg reward:  -9.154099847923693\n",
      "Episode:  1129  Last avg reward:  24.72283154224474\n",
      "Episode:  1169  Last avg reward:  1.4921356962157049\n",
      "Episode:  1209  Last avg reward:  -16.967891889661804\n",
      "Episode:  1249  Last avg reward:  30.488462501645653\n",
      "Episode:  1289  Last avg reward:  46.312675208065386\n",
      "Episode:  1329  Last avg reward:  33.58503493921569\n",
      "Episode:  1369  Last avg reward:  20.032571663866307\n",
      "Episode:  1409  Last avg reward:  45.61053568605162\n",
      "Episode:  1449  Last avg reward:  25.730468333080374\n",
      "Episode:  1489  Last avg reward:  67.30541256207114\n",
      "Episode:  1529  Last avg reward:  84.38137123193236\n",
      "Episode:  1569  Last avg reward:  51.85204028961348\n",
      "Episode:  1609  Last avg reward:  95.56015940302255\n",
      "Episode:  1649  Last avg reward:  104.31190300436344\n",
      "Episode:  1689  Last avg reward:  75.22597017991379\n",
      "Episode:  1729  Last avg reward:  98.96653216536117\n",
      "Episode:  1769  Last avg reward:  93.03152486059564\n",
      "Episode:  1809  Last avg reward:  63.75674379781393\n",
      "Episode:  1849  Last avg reward:  115.3101402844275\n",
      "Episode:  1889  Last avg reward:  78.12286563447364\n",
      "Episode:  1929  Last avg reward:  111.41998069136116\n",
      "Episode:  1969  Last avg reward:  159.53439105616525\n",
      "Episode:  2009  Last avg reward:  94.19176209417779\n",
      "Episode:  2049  Last avg reward:  92.3336909318966\n",
      "Episode:  2089  Last avg reward:  89.37803877754888\n",
      "Episode:  2129  Last avg reward:  82.00476843362073\n",
      "Episode:  2169  Last avg reward:  60.133828891933106\n",
      "Episode:  2209  Last avg reward:  98.79820958898584\n",
      "Episode:  2249  Last avg reward:  108.06851001203972\n",
      "Episode:  2289  Last avg reward:  87.21441239442973\n",
      "Episode:  2329  Last avg reward:  99.06886533976044\n",
      "Episode:  2369  Last avg reward:  135.41816577385586\n",
      "Episode:  2409  Last avg reward:  140.28791730577205\n",
      "Episode:  2449  Last avg reward:  110.49160173777622\n",
      "Episode:  2489  Last avg reward:  77.26305611638892\n",
      "Episode:  2529  Last avg reward:  97.70003006431234\n",
      "Episode:  2569  Last avg reward:  89.42423563762128\n",
      "Episode:  2609  Last avg reward:  95.87112211158977\n",
      "Episode:  2649  Last avg reward:  88.72759099275218\n",
      "Episode:  2689  Last avg reward:  143.99661647180375\n",
      "Episode:  2729  Last avg reward:  122.94547831525742\n",
      "Episode:  2769  Last avg reward:  91.93323003581709\n",
      "Episode:  2809  Last avg reward:  121.28464816282084\n",
      "Episode:  2849  Last avg reward:  88.57759560802563\n",
      "Episode:  2889  Last avg reward:  151.58933291741434\n",
      "Episode:  2929  Last avg reward:  118.54902476859668\n",
      "Episode:  2969  Last avg reward:  123.40356152833404\n",
      "Episode:  3009  Last avg reward:  75.42785034514785\n",
      "Episode:  3049  Last avg reward:  -61.26763859791263\n",
      "Episode:  3089  Last avg reward:  -124.06103285710648\n",
      "Episode:  3129  Last avg reward:  -152.03031379360996\n",
      "Episode:  3169  Last avg reward:  -160.15578230396287\n",
      "Episode:  3209  Last avg reward:  -140.46897619429433\n",
      "Episode:  3249  Last avg reward:  -104.4842514849939\n",
      "Episode:  3289  Last avg reward:  -90.34724140551675\n",
      "Episode:  3329  Last avg reward:  -10.92520248511808\n",
      "Episode:  3369  Last avg reward:  -11.282332913561893\n",
      "Episode:  3409  Last avg reward:  -9.866448259910015\n",
      "Episode:  3449  Last avg reward:  34.370457992273415\n",
      "Episode:  3489  Last avg reward:  104.67803748417555\n",
      "Episode:  3529  Last avg reward:  75.38160051062061\n",
      "Episode:  3569  Last avg reward:  82.145867130681\n",
      "Episode:  3609  Last avg reward:  104.02281260170881\n",
      "Episode:  3649  Last avg reward:  74.03261595302372\n",
      "Episode:  3689  Last avg reward:  -17.753081058979372\n",
      "Episode:  3729  Last avg reward:  44.987870465437666\n",
      "Episode:  3769  Last avg reward:  119.27159485327147\n",
      "Episode:  3809  Last avg reward:  131.2232568499133\n",
      "Episode:  3849  Last avg reward:  169.68858509392615\n",
      "Episode:  3889  Last avg reward:  30.571716753410083\n",
      "Episode:  3929  Last avg reward:  -105.67324209734277\n",
      "Episode:  3969  Last avg reward:  -19.53919918111562\n",
      "Episode:  4009  Last avg reward:  -40.067687629507525\n",
      "Episode:  4049  Last avg reward:  -65.77207729850747\n",
      "Episode:  4089  Last avg reward:  -57.535781118490625\n",
      "Episode:  4129  Last avg reward:  -62.467150314528645\n",
      "Episode:  4169  Last avg reward:  -43.383165145189764\n",
      "Episode:  4209  Last avg reward:  -37.117033965417946\n",
      "Episode:  4249  Last avg reward:  -14.226853753831715\n",
      "Episode:  4289  Last avg reward:  12.892520645997354\n",
      "Episode:  4329  Last avg reward:  1.5317661463922314\n",
      "Episode:  4369  Last avg reward:  125.28151379550857\n",
      "Episode:  4409  Last avg reward:  200.7868048416301\n",
      "Episode:  4449  Last avg reward:  199.80525807420213\n",
      "Episode:  4489  Last avg reward:  192.59512486218577\n",
      "Episode:  4529  Last avg reward:  219.07345994600445\n",
      "Episode:  4569  Last avg reward:  154.0449464086617\n",
      "Episode:  4609  Last avg reward:  148.8804742555945\n",
      "Episode:  4649  Last avg reward:  178.85679379280933\n",
      "Episode:  4689  Last avg reward:  191.7023655611499\n",
      "Episode:  4729  Last avg reward:  154.99787796042284\n",
      "Episode:  4769  Last avg reward:  125.37894797441638\n",
      "Episode:  4809  Last avg reward:  62.91711309645443\n",
      "Episode:  4849  Last avg reward:  -20.673952659337587\n",
      "Episode:  4889  Last avg reward:  50.60220839214998\n",
      "Episode:  4929  Last avg reward:  46.18539894487987\n",
      "Episode:  4969  Last avg reward:  156.82513995337763\n"
     ]
    }
   ],
   "source": [
    "r_l=[]\n",
    "for epoch in range(5000):\n",
    "    state_batch=[]\n",
    "    reward_batch=[]\n",
    "    action_batch=[]\n",
    "    v_batch=[]\n",
    "    log_prob_batch=[]\n",
    "    terminal_batch=[]\n",
    "    advantage_batch=[]\n",
    "    rewards=[]\n",
    "    state= env.reset()\n",
    "    done= False\n",
    "    r=0\n",
    "    while not done:\n",
    "        #env.render()\n",
    "        a,v_old,log_p= actor_critic.step(torch.as_tensor(state,dtype=torch.float32).to(device))\n",
    "        #print(a)\n",
    "        next_s, reward,done,_=env.step(a)\n",
    "        state_batch.append(state)\n",
    "        reward_batch.append(reward)\n",
    "        action_batch.append(a)\n",
    "        v_batch.append(v_old)\n",
    "        log_prob_batch.append(log_p)\n",
    "        terminal_batch.append(done)\n",
    "        state=next_s\n",
    "        r+=reward\n",
    "        _,v_new,log_p=actor_critic.step(torch.as_tensor(state,dtype=torch.float32).to(device))\n",
    "        adv= (reward+0.99*v_new)-v_old\n",
    "        advantage_batch.append(adv)\n",
    "    r_l.append(r)\n",
    "    update(state_batch,reward_batch,action_batch,v_batch,log_prob_batch,advantage_batch)\n",
    "    if epoch%40 == 9:\n",
    "        print(\"Episode: \",epoch,\" Last avg reward: \",sum(r_l[-40:])/40)"
   ]
  },
  {
   "cell_type": "code",
   "execution_count": 17,
   "id": "3c2c189c",
   "metadata": {},
   "outputs": [
    {
     "data": {
      "text/plain": [
       "Text(0.5, 1.0, 'Rewards per episode in training by PPO')"
      ]
     },
     "execution_count": 17,
     "metadata": {},
     "output_type": "execute_result"
    },
    {
     "data": {
      "image/png": "[encoded data removed]",
      "text/plain": [
       "<Figure size 432x288 with 1 Axes>"
      ]
     },
     "metadata": {
      "needs_background": "light"
     },
     "output_type": "display_data"
    }
   ],
   "source": [
    "import matplotlib.pyplot as plt\n",
    "plt.plot(r_l)\n",
    "plt.xlabel('Episodes')\n",
    "plt.ylabel('Reward')\n",
    "plt.title('Rewards per episode in training by PPO')"
   ]
  },
  {
   "cell_type": "code",
   "execution_count": 15,
   "id": "4faf7d3c",
   "metadata": {},
   "outputs": [],
   "source": [
    "ev_l=[]\n",
    "for epoch in range(50):\n",
    "    done= False\n",
    "    state= env.reset()\n",
    "    r=0\n",
    "    while not done:\n",
    "        env.render()\n",
    "        a,v_old,log_p= actor_critic.step(torch.as_tensor(state,dtype=torch.float32).to(device))\n",
    "        #print(a)\n",
    "        next_s, reward,done,_=env.step(a)\n",
    "        r+=reward\n",
    "        state= next_s\n",
    "    ev_l.append(r)"
   ]
  },
  {
   "cell_type": "code",
   "execution_count": 16,
   "id": "85e917e9",
   "metadata": {},
   "outputs": [
    {
     "data": {
      "text/plain": [
       "Text(0.5, 1.0, 'Rewards per Episode in evaluation')"
      ]
     },
     "execution_count": 16,
     "metadata": {},
     "output_type": "execute_result"
    },
    {
     "data": {
      "image/png": "[encoded data removed]",
      "text/plain": [
       "<Figure size 432x288 with 1 Axes>"
      ]
     },
     "metadata": {
      "needs_background": "light"
     },
     "output_type": "display_data"
    }
   ],
   "source": [
    "plt.plot(ev_l)\n",
    "plt.xlabel('Episodes')\n",
    "plt.ylabel('Reward')\n",
    "plt.title('Rewards per Episode in evaluation')"
   ]
  },
  {
   "cell_type": "code",
   "execution_count": null,
   "id": "cf03aacd",
   "metadata": {},
   "outputs": [],
   "source": []
  }
 ],
 "metadata": {
  "kernelspec": {
   "display_name": "Python 3 (ipykernel)",
   "language": "python",
   "name": "python3"
  },
  "language_info": {
   "codemirror_mode": {
    "name": "ipython",
    "version": 3
   },
   "file_extension": ".py",
   "mimetype": "text/x-python",
   "name": "python",
   "nbconvert_exporter": "python",
   "pygments_lexer": "ipython3",
   "version": "3.9.7"
  }
 },
 "nbformat": 4,
 "nbformat_minor": 5
}
